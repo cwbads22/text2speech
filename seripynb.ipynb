{
  "nbformat": 4,
  "nbformat_minor": 0,
  "metadata": {
    "colab": {
      "name": "seripynb",
      "provenance": [],
      "collapsed_sections": []
    },
    "kernelspec": {
      "name": "python3",
      "display_name": "Python 3"
    },
    "language_info": {
      "name": "python"
    }
  },
  "cells": [
    {
      "cell_type": "code",
      "execution_count": null,
      "metadata": {
        "id": "-9mIpo9OTj8O"
      },
      "outputs": [],
      "source": [
        "!pip install gtts"
      ]
    },
    {
      "cell_type": "code",
      "source": [
        "from gtts import gTTS"
      ],
      "metadata": {
        "id": "9YdonvSbT7V3"
      },
      "execution_count": null,
      "outputs": []
    },
    {
      "cell_type": "code",
      "source": [
        "import os"
      ],
      "metadata": {
        "id": "QjrxDzxJUDrI"
      },
      "execution_count": null,
      "outputs": []
    },
    {
      "cell_type": "code",
      "source": [
        "text = \"Estudar na Ser Educacional é tão motivador! Já posso escrever um livro de contos fantásticos ou ser um coach de sucesso! Enzo, Enzo... manda meu diploma de palhaço!!! Isto foi um texte para o podrecast!\""
      ],
      "metadata": {
        "id": "C0g6fAW9UGP_"
      },
      "execution_count": null,
      "outputs": []
    },
    {
      "cell_type": "code",
      "source": [
        "speech = gTTS(text, lang=\"pt\", tld='com.br', slow = False)"
      ],
      "metadata": {
        "id": "FjzavTwkVNME"
      },
      "execution_count": null,
      "outputs": []
    },
    {
      "cell_type": "code",
      "source": [
        "speech.save('ser01.mp3')"
      ],
      "metadata": {
        "id": "khrYJyovVjZc"
      },
      "execution_count": null,
      "outputs": []
    }
  ]
}